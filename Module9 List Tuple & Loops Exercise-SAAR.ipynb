{
 "cells": [
  {
   "cell_type": "markdown",
   "metadata": {},
   "source": [
    "### Exercise 1\n",
    "Ask a user for 5 names and place each one in to a list called <i>names</i>. Then, print <i>names</i>."
   ]
  },
  {
   "cell_type": "code",
   "execution_count": 97,
   "metadata": {},
   "outputs": [
    {
     "name": "stdin",
     "output_type": "stream",
     "text": [
      "Enter a name:  fred\n",
      "Enter a name:  jack\n",
      "Enter a name:  betty\n",
      "Enter a name:  frank\n",
      "Enter a name:  sue\n"
     ]
    },
    {
     "name": "stdout",
     "output_type": "stream",
     "text": [
      "['Fred', 'Jack', 'Betty', 'Frank', 'Sue']\n"
     ]
    }
   ],
   "source": [
    "names = []\n",
    "\n",
    "for name in range(5):\n",
    "    name = input('Enter a name: ')\n",
    "    names.append(name.title())\n",
    "    \n",
    "print(names)"
   ]
  },
  {
   "cell_type": "markdown",
   "metadata": {},
   "source": [
    "### Exercise 2\n",
    "Print out a randomly selected name in the names list from exercise 1."
   ]
  },
  {
   "cell_type": "code",
   "execution_count": 98,
   "metadata": {},
   "outputs": [
    {
     "name": "stdout",
     "output_type": "stream",
     "text": [
      "Sue\n"
     ]
    }
   ],
   "source": [
    "import random as rand\n",
    "print(names[rand.randint(0,4)])"
   ]
  },
  {
   "cell_type": "markdown",
   "metadata": {},
   "source": [
    "### Exercise 3: \n",
    "Fix bugs in the next cell.  It is trying to create a list for even numbers between two numbers provided by a user.\n"
   ]
  },
  {
   "cell_type": "code",
   "execution_count": 23,
   "metadata": {},
   "outputs": [
    {
     "name": "stdin",
     "output_type": "stream",
     "text": [
      "Enter a starting number:  4\n",
      "Enter an ending number:  26\n"
     ]
    },
    {
     "name": "stdout",
     "output_type": "stream",
     "text": [
      "[4, 5, 6, 7, 8, 9, 10, 11, 12, 13, 14, 15, 16, 17, 18, 19, 20, 21, 22, 23, 24, 25, 26]\n",
      "[4, 6, 8, 10, 12, 14, 16, 18, 20, 22, 24, 26]\n"
     ]
    }
   ],
   "source": [
    "no1 = int(input(\"Enter a starting number: \"))\n",
    "no2 = int(input(\"Enter an ending number: \"))\n",
    "\n",
    "numbers = []\n",
    "evens = []\n",
    "\n",
    "for i in range(no1, no2+1) : # off by 1 > add (no2 + 1) to include the proper range\n",
    "    numbers.append(i) \n",
    "    if (i%2 == 0) :   # even number\n",
    "        evens.append(i)\n",
    "    \n",
    "print(numbers)    \n",
    "print(evens)"
   ]
  },
  {
   "cell_type": "markdown",
   "metadata": {},
   "source": [
    "### Exercise 4\n",
    "Finish writing a program to generate 10 random numbers between 1 and 100 and save it to a list.\n",
    "Finally, print out the original numbers followed by the smallest, largest, and average number."
   ]
  },
  {
   "cell_type": "code",
   "execution_count": 53,
   "metadata": {},
   "outputs": [
    {
     "name": "stdout",
     "output_type": "stream",
     "text": [
      "Org numbers is a copy with new id (using copy() method) = 2989902440128\n",
      "Org numbers2 is another copy with new id (using slicing [:] method) = 2989902440192\n",
      "numbers id = 2989902440256\n",
      "\n",
      "---\n",
      "Org Numbers are [4, 40, 80, 71, 24, 91, 2, 85, 26, 31]\n",
      "Sorted numbers are [2, 4, 24, 26, 31, 40, 71, 80, 85, 91]\n",
      "Largest number is 91\n",
      "Smallest number is 2\n",
      "Average is 45.4\n"
     ]
    }
   ],
   "source": [
    "import random as rand\n",
    "\n",
    "numbers = []\n",
    "total = 0\n",
    "\n",
    "for i in range(1, 11) :\n",
    "    numb = rand.randint(1, 100)\n",
    "    total += numb # add to total\n",
    "    numbers.append(numb)  # append each random number to numbers[]\n",
    "   \n",
    "# some code needed here to find the smallest, largest, and average number\n",
    "\n",
    "org_numbs = numbers.copy() # new address...\n",
    "print(f\"Org numbers is a copy with new id (using copy() method) = {id(org_numbs)}\")\n",
    "org_numbs2 = numbers[:] # another method to copy using slicing \n",
    "print(f\"Org numbers2 is another copy with new id (using slicing [:] method) = {id(org_numbs2)}\")\n",
    "print(f\"numbers id = {id(numbers)}\")\n",
    "print(\"\\n---\")\n",
    "numbers.sort()\n",
    "largest = max(numbers)\n",
    "smallest = min(numbers)\n",
    "avg = total/len(numbers)\n",
    "\n",
    "print(f\"Org Numbers are {org_numbs}\")\n",
    "print(f\"Sorted numbers are {numbers}\")\n",
    "print(f\"Largest number is {largest}\")\n",
    "print(f\"Smallest number is {smallest}\")\n",
    "print(f\"Average is {avg}\")"
   ]
  },
  {
   "cell_type": "markdown",
   "metadata": {},
   "source": [
    "### Exercise 5\n",
    "\n",
    "Write a function called <b>draw_triangle()</b> to draw a right triangle where the base of the triangle is the number passed in as an arguement. Call <b>draw_triangle()</b> to show it works.\n",
    "\n",
    "e.g. <b>draw_triangle(7)</b> draws as below:\n",
    "\n",
    "    *\n",
    "    **\n",
    "    ***\n",
    "    ****\n",
    "    *****\n",
    "    ******\n",
    "    *******\n"
   ]
  },
  {
   "cell_type": "code",
   "execution_count": 94,
   "metadata": {},
   "outputs": [],
   "source": [
    "# write code for draw_triangle() function\n",
    "\n",
    "def draw_triangle(b):\n",
    "    for i in range(1,b+1) :\n",
    "        print('*' * i)\n",
    "\n"
   ]
  },
  {
   "cell_type": "code",
   "execution_count": 99,
   "metadata": {},
   "outputs": [
    {
     "name": "stdin",
     "output_type": "stream",
     "text": [
      "Enter a number:  12\n"
     ]
    },
    {
     "name": "stdout",
     "output_type": "stream",
     "text": [
      "*\n",
      "**\n",
      "***\n",
      "****\n",
      "*****\n",
      "******\n",
      "*******\n",
      "********\n",
      "*********\n",
      "**********\n",
      "***********\n",
      "************\n"
     ]
    }
   ],
   "source": [
    "base = int(input(\"Enter a number: \"))\n",
    "\n",
    "draw_triangle(base)"
   ]
  },
  {
   "cell_type": "code",
   "execution_count": null,
   "metadata": {},
   "outputs": [],
   "source": []
  }
 ],
 "metadata": {
  "kernelspec": {
   "display_name": "Python 3 (ipykernel)",
   "language": "python",
   "name": "python3"
  },
  "language_info": {
   "codemirror_mode": {
    "name": "ipython",
    "version": 3
   },
   "file_extension": ".py",
   "mimetype": "text/x-python",
   "name": "python",
   "nbconvert_exporter": "python",
   "pygments_lexer": "ipython3",
   "version": "3.11.7"
  }
 },
 "nbformat": 4,
 "nbformat_minor": 4
}
